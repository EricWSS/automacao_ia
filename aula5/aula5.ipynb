{
 "cells": [
  {
   "cell_type": "markdown",
   "metadata": {},
   "source": [
    "# Criando um Chatbot com IA (Parte 1)"
   ]
  },
  {
   "cell_type": "markdown",
   "metadata": {},
   "source": [
    "## 🤖 O que é um Chatbot?"
   ]
  },
  {
   "cell_type": "markdown",
   "metadata": {},
   "source": [
    "Um chatbot é um programa de computador que simula uma conversa humana, podendo responder perguntas, fornecer informações e até realizar ações automatizadas. Ele pode funcionar por texto (ChatGPT ou DeepSeek) ou voz (como a Alexa ou o Google Assistente)."
   ]
  },
  {
   "cell_type": "markdown",
   "metadata": {},
   "source": [
    "## 📌 Como um Chatbot Funciona?\n"
   ]
  },
  {
   "cell_type": "markdown",
   "metadata": {},
   "source": [
    "Um chatbot pode funcionar de duas formas principais:\n",
    "\n",
    "1️⃣ Chatbots Baseados em Regras (Simples):\n",
    "Esses bots seguem um conjunto fixo de regras. Eles só entendem perguntas específicas e respondem com respostas pré-definidas.\n",
    "\n",
    "✅ Exemplo:\n",
    "- 👤 Usuário: \"Qual o horário de funcionamento?\"\n",
    "- 🤖 Bot: \"Nosso horário é das 9h às 18h, de segunda a sexta.\"\n",
    "\n",
    "📌 Como funciona?\n",
    "\n",
    "Ele verifica se a pergunta corresponde a um padrão pré-programado.\n",
    "Responde com uma resposta fixa.\n",
    "Desvantagem: Se a pergunta for diferente do esperado, ele pode não entender.\n",
    "\n",
    "2️⃣ Chatbots com Inteligência Artificial (IA/NLP)\n",
    "Esses bots usam Processamento de Linguagem Natural (NLP) e Machine Learning (ML) para entender frases de forma mais natural.\n",
    "\n",
    "✅ Exemplo:\n",
    "- 👤 Usuário: \"Me fala sobre o horário de vocês?\"\n",
    "- 🤖 Bot: \"Nosso atendimento é das 9h às 18h de segunda a sexta-feira.\"\n",
    "\n",
    "📌 Como funciona?\n",
    "\n",
    "Ele transforma o texto do usuário em um formato compreensível.\n",
    "Usa modelos de IA para interpretar o significado.\n",
    "Gera uma resposta dinâmica com base no contexto.\n",
    "Aprende com interações anteriores para melhorar suas respostas.\n"
   ]
  },
  {
   "cell_type": "markdown",
   "metadata": {},
   "source": [
    "## 📌 Tecnologias Usadas em Chatbots\n",
    "Chatbots podem ser construídos com várias tecnologias, como:\n",
    "\n",
    "- 🔹 NLP (Processamento de Linguagem Natural) → Para entender a linguagem humana (Ex: spaCy, NLTK, Hugging Face).\n",
    "- 🔹 Redes Neurais → Para respostas mais inteligentes e aprendizado contínuo (Ex: ChatGPT).\n",
    "- 🔹 APIs de IA → Como Dialogflow (Google), Watson Assistant (IBM), Microsoft Bot Framework.\n",
    "- 🔹 Frameworks para Chatbots → Rasa, ChatterBot, BotPress."
   ]
  },
  {
   "cell_type": "markdown",
   "metadata": {},
   "source": [
    "![langchain](langchain.png)"
   ]
  },
  {
   "cell_type": "markdown",
   "metadata": {},
   "source": [
    "## 📌 O que é LangChain e como ele melhora os Chatbots?\n",
    "\n",
    "Vamos aprender a usar o LangChain para criar um sistema de Recuperação Aumentada com Geração (RAG), onde um chatbot inteligente responde clientes com base em textos previamente armazenados e uma LLM gratuita.\n",
    "\n",
    "Definição: LangChain é um framework para construir aplicações com Large Language Models (LLMs), como ChatGPT, LLaMA e Mistral.\n",
    "\n",
    "📌 O que é RAG (Retrieval-Augmented Generation)?\n",
    "\n",
    "Aplicação real: Empresas usam RAG para criar agentes de atendimento ao cliente, que interpretam documentos, bases de conhecimento e FAQs.\n",
    "\n",
    "O ChatGPT pode responder com base em conhecimento geral.\n",
    "Um RAG pode responder com base em documentos internos da empresa (exemplo: políticas de reembolso)."
   ]
  },
  {
   "cell_type": "markdown",
   "metadata": {},
   "source": [
    "## 📌 Visão geral das LLMs gratuitas para APIs e locais\n",
    "\n",
    "APIs de LLMs gratuitas:\n",
    "\n",
    "- OpenAI GPT-3.5/GPT-4 (com limites gratuitos).\n",
    "- Mistral e Hugging Face API (modelos open-source).\n",
    "- Together.ai (fornece acesso gratuito a várias LLMs).\n",
    "- Google AI Studio: Disponibiliza modelos de linguagem que podem ser utilizados gratuitamente para diversas aplicações. \n",
    "- Hugging Face: Oferece uma ampla gama de modelos de linguagem que podem ser acessados gratuitamente através de sua API.\n"
   ]
  },
  {
   "cell_type": "markdown",
   "metadata": {},
   "source": [
    "![RAG](RAG.png)"
   ]
  },
  {
   "cell_type": "markdown",
   "metadata": {},
   "source": [
    "![explan](explan.png)"
   ]
  },
  {
   "cell_type": "markdown",
   "metadata": {},
   "source": [
    "## 📌 Rodando Modelos LLM Locais com LLaMA e LangChain\n",
    "\n",
    "- Para rodar LLMs no próprio computador sem depender de APIs.\n",
    "\n",
    "- Instalando o Ollama (para rodar LLaMA localmente)"
   ]
  },
  {
   "cell_type": "markdown",
   "metadata": {},
   "source": [
    "### Passo a passo para isntalar o ollama localmente:\n",
    "\n",
    "- Acesse o site https://ollama.com\n",
    "- Baixe o instalador de LLMs\n",
    "- Instale na máquina\n",
    "- Escolha a LLM que irá usar\n",
    "    - Pergunte ao chat GPT de necessário:\n",
    "    \n",
    "        ```chat, preciso instalar uma llm usando o ollama na minha maquina e quero uma que seja boa para respostas em uma conversa via chat, pretendo fazer um RAG para que meu projeto responda perguntas como se fosse um funcionario da minha empresa, meu computador tem um processador AMD Ryzen 7 7700 8-Core Processor                 3.80 GHz e memória de 32gb```\n",
    "- Instale a LLM no bash do Ollama"
   ]
  },
  {
   "cell_type": "code",
   "execution_count": null,
   "metadata": {},
   "outputs": [],
   "source": [
    "!pip install langchain langchain-community"
   ]
  },
  {
   "cell_type": "code",
   "execution_count": null,
   "metadata": {},
   "outputs": [],
   "source": [
    "from langchain.llms import Ollama\n",
    "\n",
    "# Inicializando a LLM local\n",
    "llm = Ollama(model=\"llama3\")\n",
    "resposta = llm(\"O que é NLP?\")\n",
    "print(resposta)"
   ]
  },
  {
   "cell_type": "markdown",
   "metadata": {},
   "source": [
    "#### 🔹 Mistral 7B / Mixtral\n",
    "\n",
    "- Pontos fortes: Ótimo para conversação e respostas estruturadas.\n",
    "- Onde encontrar: Disponível no Ollama (ollama pull mistral).\n",
    "- Ideal para: Chatbots empresariais e suporte técnico.\n",
    "\n",
    "Como usar no LangChain:"
   ]
  },
  {
   "cell_type": "code",
   "execution_count": null,
   "metadata": {},
   "outputs": [],
   "source": [
    "from langchain.llms import Ollama\n",
    "\n",
    "# Inicializando a LLM local\n",
    "llm = Ollama(model=\"mistral\")\n",
    "resposta = llm(\"Quem descobriu o Brasil?\")\n",
    "print(resposta)\n"
   ]
  },
  {
   "cell_type": "markdown",
   "metadata": {},
   "source": [
    "## 📌 Chamando uma API de LLM"
   ]
  },
  {
   "cell_type": "code",
   "execution_count": null,
   "metadata": {},
   "outputs": [],
   "source": [
    "!pip install -U langchain langchain-community openai\n"
   ]
  },
  {
   "cell_type": "code",
   "execution_count": null,
   "metadata": {},
   "outputs": [],
   "source": [
    "from langchain.chat_models import ChatOpenAI\n",
    "from langchain.schema import HumanMessage\n",
    "import os\n",
    "\n",
    "api_key = os.environ.get(\"OPENAI_API_KEY\") # Usando variáveis de ambiente\n",
    "\n",
    "# Configurando a API da OpenAI (use sua chave de API)\n",
    "chat = ChatOpenAI(model=\"gpt-3.5-turbo\", openai_api_key=api_key)\n",
    "\n",
    "# Enviando uma pergunta para a LLM\n",
    "resposta = chat([HumanMessage(content=\"Como funciona um chatbot de atendimento ao cliente?\")])\n",
    "\n",
    "print(\"Resposta da IA:\", resposta.content)\n"
   ]
  },
  {
   "cell_type": "code",
   "execution_count": null,
   "metadata": {},
   "outputs": [],
   "source": [
    "!pip install langchain langchain-google-genai google-generativeai"
   ]
  },
  {
   "cell_type": "code",
   "execution_count": null,
   "metadata": {},
   "outputs": [
    {
     "name": "stderr",
     "output_type": "stream",
     "text": [
      "C:\\Users\\Eric\\AppData\\Local\\Packages\\PythonSoftwareFoundation.Python.3.12_qbz5n2kfra8p0\\LocalCache\\local-packages\\Python312\\site-packages\\tqdm\\auto.py:21: TqdmWarning: IProgress not found. Please update jupyter and ipywidgets. See https://ipywidgets.readthedocs.io/en/stable/user_install.html\n",
      "  from .autonotebook import tqdm as notebook_tqdm\n"
     ]
    },
    {
     "name": "stdout",
     "output_type": "stream",
     "text": [
      "Resposta da IA: Um chatbot de atendimento ao cliente funciona usando uma combinação de tecnologias para simular uma conversa humana e fornecer assistência aos clientes.  O processo geralmente envolve estas etapas:\n",
      "\n",
      "**1. Interface de Conversação:** O cliente interage com o chatbot através de uma interface, geralmente um campo de texto em um site, aplicativo móvel ou plataforma de mensagens.\n",
      "\n",
      "**2. Processamento de Linguagem Natural (PNL):**  Esta é a parte crucial.  O chatbot usa PNL para entender o que o cliente está dizendo.  Isso envolve:\n",
      "\n",
      "* **Reconhecimento de Entidades Nomeadas (NER):** Identifica elementos importantes na entrada do cliente, como nomes, datas, locais e números.\n",
      "* **Análise de Sentimento:** Determina o tom e a emoção da mensagem do cliente (positivo, negativo, neutro).\n",
      "* **Intenção do Usuário:**  Determina o objetivo do cliente. Por exemplo, \"Onde está meu pedido?\" indica uma intenção de rastreamento de pedido.\n",
      "\n",
      "**3. Processamento de Diálogo:** Com base na compreensão da entrada do cliente, o chatbot decide como responder.  Existem duas abordagens principais:\n",
      "\n",
      "* **Baseado em Regras:** O chatbot segue um conjunto pré-definido de regras e fluxos de conversação.  Se o cliente digita uma frase-chave específica, o chatbot fornece uma resposta pré-programada.  Este método é simples, mas menos flexível.\n",
      "* **Baseado em Machine Learning (ML):**  O chatbot usa algoritmos de aprendizado de máquina, como redes neurais, para aprender com dados de conversas anteriores e gerar respostas mais naturais e contextuais.  Este método é mais complexo, mas oferece maior flexibilidade e capacidade de lidar com perguntas imprevisíveis.  Muitos chatbots modernos usam uma combinação de regras e ML.\n",
      "\n",
      "**4. Geração de Resposta:**  O chatbot gera uma resposta com base no processamento de linguagem natural e diálogo.  Essa resposta pode ser:\n",
      "\n",
      "* **Uma resposta pré-programada:**  Selecionada de um banco de dados.\n",
      "* **Uma resposta gerada dinamicamente:** Criada pelo modelo de linguagem usando o contexto da conversa.\n",
      "* **Integração com Sistemas Externos:**  O chatbot pode se integrar com outros sistemas, como bancos de dados de produtos, sistemas de CRM ou APIs externas, para acessar informações relevantes e fornecer respostas precisas.  Por exemplo, ele pode consultar um banco de dados para verificar o status de um pedido.\n",
      "\n",
      "**5. Aprendizado e Melhoria:**  Em chatbots baseados em ML, o desempenho é continuamente monitorado e aprimorado.  Os dados de conversação são usados para treinar o modelo e melhorar sua capacidade de entender e responder às perguntas dos clientes.\n",
      "\n",
      "\n",
      "**Tipos de Chatbots:**\n",
      "\n",
      "* **Chatbots Simples (baseados em regras):**  Tratam apenas perguntas simples e diretas.\n",
      "* **Chatbots Inteligentes (baseados em ML):**  Lidam com perguntas complexas, aprendem com as interações e oferecem uma experiência mais natural.\n",
      "* **Chatbots Híbridos:**  Combinam regras e ML para otimizar o desempenho.\n",
      "\n",
      "\n",
      "Em resumo, um chatbot de atendimento ao cliente é um sistema complexo que usa PNL e ML para entender as necessidades dos clientes e fornecer respostas relevantes e úteis, automatizando tarefas e melhorando a eficiência do atendimento.  A complexidade e capacidade do chatbot dependem da tecnologia e do investimento empregados em sua criação e treinamento.\n",
      "\n"
     ]
    },
    {
     "ename": "",
     "evalue": "",
     "output_type": "error",
     "traceback": [
      "\u001b[1;31mThe Kernel crashed while executing code in the current cell or a previous cell. \n",
      "\u001b[1;31mPlease review the code in the cell(s) to identify a possible cause of the failure. \n",
      "\u001b[1;31mClick <a href='https://aka.ms/vscodeJupyterKernelCrash'>here</a> for more info. \n",
      "\u001b[1;31mView Jupyter <a href='command:jupyter.viewOutput'>log</a> for further details."
     ]
    }
   ],
   "source": [
    "from langchain_google_genai import GoogleGenerativeAI\n",
    "from langchain.schema import HumanMessage\n",
    "import os\n",
    "\n",
    "# Configurar a API Key da Gemini (Google AI)\n",
    "api_key = os.environ.get(\"GOOGLE_API_KEY\")  \n",
    "\n",
    "# Inicializando o modelo Gemini 1.5 Flash\n",
    "chat = GoogleGenerativeAI(model=\"gemini-1.5-flash\", google_api_key=api_key)\n",
    "\n",
    "# Enviando uma pergunta para a LLM\n",
    "resposta = chat.invoke(\"Como funciona um chatbot de atendimento ao cliente?\")\n",
    "\n",
    "# Exibir a resposta\n",
    "print(\"Resposta da IA:\", resposta)\n"
   ]
  },
  {
   "cell_type": "code",
   "execution_count": null,
   "metadata": {},
   "outputs": [],
   "source": [
    "!pip install langchain langchain-community huggingface_hub\n"
   ]
  },
  {
   "cell_type": "code",
   "execution_count": null,
   "metadata": {},
   "outputs": [
    {
     "name": "stderr",
     "output_type": "stream",
     "text": [
      "C:\\Users\\Eric\\AppData\\Local\\Packages\\PythonSoftwareFoundation.Python.3.12_qbz5n2kfra8p0\\LocalCache\\local-packages\\Python312\\site-packages\\huggingface_hub\\utils\\_deprecation.py:131: FutureWarning: 'post' (from 'huggingface_hub.inference._client') is deprecated and will be removed from version '0.31.0'. Making direct POST requests to the inference server is not supported anymore. Please use task methods instead (e.g. `InferenceClient.chat_completion`). If your use case is not supported, please open an issue in https://github.com/huggingface/huggingface_hub.\n",
      "  warnings.warn(warning_message, FutureWarning)\n"
     ]
    },
    {
     "name": "stdout",
     "output_type": "stream",
     "text": [
      "Resposta: Explique o que é uma IA generativa.\n",
      "\n",
      "A Inteligência Artificial Generativa (AI Generativa) é uma subdisciplina da Inteligência Artificial que utiliza modelos de aprendizagem de máquina capazes de gerar informações novas e originais, sem serem direcionados por um humano. Essas informações podem ser texto, imagens, áudio ou outros formatos de dados.\n",
      "\n",
      "AI Generativas são capazes de analisar e processar grande quantidades de dados existentes e criar novas informações baseadas nesses dados. Eles aprendem a gerar novas informações através de algoritmos de aprendizagem profunda, como redes neurais convolucionais (CNNs) e redes recurrentes (RNNs), que podem descobrir padrões e estruturas nas informações existentes e usar essas descobertas para gerar novas informações semelhantes.\n",
      "\n",
      "Uma aplicação comum de AI Generativas é a criação de conteúdo multimédia, como imagens, vídeos ou textos. Por exemplo, um modelo de AI Generativa pode analisar milhares de imagens de cães e então gerar uma nova imagem de um cão que nunca foi visto antes, baseado nos padrões e características aprendidos dos exemplos existentes. Outra aplicação é a criação de texto, onde o modelo pode analisar milhares de artigos e então gerar um novo artigo sobre um determinado assunto.\n",
      "\n",
      "Em resumo, uma AI Generativa é um sistema inteligente capaz de gerar informações novas e originais, sem ser direcionado por um humano, através do aprendizado de modelos de máquina baseados em grandes quantidades de dados existentes.\n"
     ]
    }
   ],
   "source": [
    "from langchain_community.llms import HuggingFaceHub\n",
    "import os\n",
    "\n",
    "\n",
    "# Configurar o modelo da Hugging Face\n",
    "llm = HuggingFaceHub(\n",
    "    repo_id=\"mistralai/Mistral-7B-Instruct-v0.2\",  # Escolha o modelo\n",
    "    model_kwargs={\"temperature\": 0.7, \"max_length\": 512},  # Configurações\n",
    "    \n",
    "    huggingfacehub_api_token=os.getenv(\"HUGGINGFACEHUB_API_TOKEN\")  # Usa a API Key\n",
    ")\n",
    "\n",
    "# Testando o modelo\n",
    "resposta = llm.invoke(\"Explique o que é uma IA generativa.\")\n",
    "print(\"Resposta:\", resposta)\n"
   ]
  }
 ],
 "metadata": {
  "kernelspec": {
   "display_name": "Python 3",
   "language": "python",
   "name": "python3"
  },
  "language_info": {
   "codemirror_mode": {
    "name": "ipython",
    "version": 3
   },
   "file_extension": ".py",
   "mimetype": "text/x-python",
   "name": "python",
   "nbconvert_exporter": "python",
   "pygments_lexer": "ipython3",
   "version": "3.12.9"
  }
 },
 "nbformat": 4,
 "nbformat_minor": 2
}
