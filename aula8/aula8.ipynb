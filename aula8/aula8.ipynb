{
 "cells": [
  {
   "cell_type": "markdown",
   "metadata": {},
   "source": [
    "# 🧠 Transformando o RAG em Produto: API, WhatsApp\n"
   ]
  },
  {
   "cell_type": "markdown",
   "metadata": {},
   "source": [
    "## 🔧 Criando uma API com FastAPI para consumir o RAG"
   ]
  },
  {
   "cell_type": "code",
   "execution_count": null,
   "metadata": {},
   "outputs": [],
   "source": [
    "!pip install fastapi uvicorn"
   ]
  },
  {
   "cell_type": "markdown",
   "metadata": {},
   "source": [
    "Set-ExecutionPolicy -ExecutionPolicy Bypass -Scope Process\n",
    "pip install fastapi uvicorn langchain langchain-chroma langchain-huggingface langchain-community sentence-transformers\n"
   ]
  },
  {
   "cell_type": "code",
   "execution_count": null,
   "metadata": {},
   "outputs": [],
   "source": [
    "!pip install -U langchain langchain-community langchain-huggingface langchain-chroma"
   ]
  },
  {
   "cell_type": "code",
   "execution_count": null,
   "metadata": {},
   "outputs": [],
   "source": [
    "from fastapi import FastAPI # A MAIS FÁCIL DE TODAS\n",
    "from pydantic import BaseModel\n",
    "from langchain_chroma import Chroma  # Atualizado\n",
    "from langchain_community.embeddings import HuggingFaceInferenceAPIEmbeddings\n",
    "from langchain_huggingface import HuggingFaceEndpoint  # Atualizado\n",
    "from langchain.chains import RetrievalQA\n",
    "import os\n",
    "\n",
    "app = FastAPI() # Classe que INSTANCIA o fast api\n",
    "\n",
    "embedding = HuggingFaceInferenceAPIEmbeddings(\n",
    "    api_key=os.getenv(\"HUGGINGFACEHUB_API_TOKEN\"),\n",
    "    model_name=\"sentence-transformers/all-MiniLM-L6-v2\"\n",
    ")\n",
    "\n",
    "vectorstore = Chroma(\n",
    "    persist_directory=\"./chroma_hf_db\",\n",
    "    embedding_function=embedding\n",
    ")\n",
    "\n",
    "llm = HuggingFaceEndpoint(\n",
    "    repo_id=\"mistralai/Mixtral-8x7B-Instruct-v0.1\",\n",
    "    task=\"text-generation\",  # <- ESSA LINHA É ESSENCIAL\n",
    "    huggingfacehub_api_token=os.getenv(\"HUGGINGFACEHUB_API_TOKEN\"),\n",
    "    temperature=0.3\n",
    ")\n",
    "\n",
    "\n",
    "qa = RetrievalQA.from_chain_type(\n",
    "    llm=llm,\n",
    "    retriever=vectorstore.as_retriever()\n",
    ")\n",
    "\n",
    "class Consulta(BaseModel): # Herdar\n",
    "    pergunta: str\n",
    "    \n",
    "\n",
    "@app.post(\"/chat/\") # Decorador\n",
    "def responder(consulta: Consulta):\n",
    "    resposta = qa.run(consulta.pergunta)\n",
    "    return {\"resposta\": resposta}\n",
    "\n",
    "\n"
   ]
  },
  {
   "cell_type": "markdown",
   "metadata": {},
   "source": [
    "Executar:\n",
    "```bash\n",
    "uvicorn main:app --reload\n"
   ]
  },
  {
   "cell_type": "markdown",
   "metadata": {},
   "source": [
    "## 📲 WHATSAPP + IA: Como Integrar com Z-API e Twilio"
   ]
  },
  {
   "cell_type": "markdown",
   "metadata": {},
   "source": [
    "### ✅ Z-API: Integração com WhatsApp via API Não Oficial"
   ]
  },
  {
   "cell_type": "markdown",
   "metadata": {},
   "source": [
    "#### O que é Z-API?\n",
    "\n",
    "Z-API é uma API não oficial do WhatsApp.\n",
    "\n",
    "Ela funciona usando WhatsApp Web por trás dos panos, simulando o comportamento de um usuário real.\n",
    "\n",
    "Ideal para projetos rápidos, testes e protótipos, com baixo custo.\n",
    "\n",
    "#### Como funciona por trás?\n",
    "\n",
    "Você escanear um QR Code com o WhatsApp Web.\n",
    "\n",
    "A Z-API cria uma sessão conectada ao seu WhatsApp pessoal ou corporativo.\n",
    "\n",
    "Sua aplicação então recebe e envia mensagens através dessa conexão.\n"
   ]
  },
  {
   "cell_type": "markdown",
   "metadata": {},
   "source": [
    "#### 🛠️ Etapas para usar a Z-API\n",
    "\n",
    "1. Crie uma conta gratuita:\n",
    "\n",
    "- Acesse: https://z-api.io\n",
    "\n",
    "- Faça login com e-mail e senha.\n",
    "\n",
    "\n",
    "2. Crie uma nova instância:\n",
    "\n",
    "- Clique em \"Nova instância\"\n",
    "\n",
    "- Dê um nome, selecione um plano gratuito ou teste.\n",
    "\n",
    "\n",
    "3. Escaneie o QR Code:\n",
    "\n",
    "- Escaneie com seu celular na aba WhatsApp Web.\n",
    "\n",
    "- Depois disso, sua instância ficará online e conectada ao seu número.\n",
    "\n",
    "\n",
    "4. Pegue os dados da instância:\n",
    "\n",
    "- Você verá dois dados importantes:\n",
    "\n",
    "    - Instance ID\n",
    "    - Token\n",
    "\n"
   ]
  },
  {
   "cell_type": "markdown",
   "metadata": {},
   "source": [
    "#### 📤 Enviando mensagens via Z-API\n",
    "\n",
    "Para enviar mensagem de volta, você faz um POST HTTP para:\n",
    "\n",
    "```bash\n",
    "POST https://api.z-api.io/instances/{INSTANCE_ID}/token/{TOKEN}/send-text\n",
    "```\n",
    "\n",
    "Com o seguinte corpo:\n",
    "\n",
    "```json \n",
    "{\n",
    "  \"phone\": \"5511999999999\",\n",
    "  \"message\": \"Olá! Recebemos sua dúvida e responderemos em breve.\"\n",
    "}\n",
    "\n"
   ]
  },
  {
   "cell_type": "markdown",
   "metadata": {},
   "source": [
    "#### 📥 Recebendo mensagens com Webhook\n",
    "\n",
    "- Z-API envia um POST automático para sua API quando o usuário responde.\n",
    "\n",
    "- Exemplo de payload que sua API vai receber:\n",
    "\n",
    "```json\n",
    "{\n",
    "  \"message\": \"Olá, quero saber sobre reembolso\",\n",
    "  \"phone\": \"5511999999999\",\n",
    "  \"instanceId\": \"seu_instance\",\n",
    "  \"timestamp\": 1712271000\n",
    "}\n",
    "```\n",
    "\n"
   ]
  },
  {
   "cell_type": "markdown",
   "metadata": {},
   "source": [
    "####  Integração com FastAPI:"
   ]
  },
  {
   "cell_type": "code",
   "execution_count": null,
   "metadata": {},
   "outputs": [],
   "source": [
    "\n",
    "from fastapi import FastAPI, Request\n",
    "import requests\n",
    "\n",
    "app = FastAPI()\n",
    "\n",
    "INSTANCE_ID = \"sua_instance\"\n",
    "TOKEN = \"seu_token\"\n",
    "\n",
    "@app.post(\"/whatsapp/\")\n",
    "async def receber_mensagem(request: Request):\n",
    "    dados = await request.json()\n",
    "    pergunta = dados.get(\"message\")\n",
    "    numero = dados.get(\"phone\")\n",
    "\n",
    "    # Aqui entra seu RAG:\n",
    "    resposta = qa.run(pergunta)\n",
    "\n",
    "    # Enviar a resposta de volta\n",
    "    requests.post(\n",
    "        f\"https://api.z-api.io/instances/{INSTANCE_ID}/token/{TOKEN}/send-text\",\n",
    "        json={\n",
    "            \"phone\": numero,\n",
    "            \"message\": resposta\n",
    "        }\n",
    "    )\n",
    "    return {\"ok\": True}\n"
   ]
  },
  {
   "cell_type": "markdown",
   "metadata": {},
   "source": [
    "#### 📦 Prós e Contras do Z-API:\n",
    "![prosecontras](images/prosecontras.png)"
   ]
  },
  {
   "cell_type": "markdown",
   "metadata": {},
   "source": [
    "### Fluxo da mensagem:\n",
    "\n",
    "#### 📡 1. Cliente envia mensagem no WhatsApp\n",
    "Imagine que o cliente digita:\n",
    "\n",
    "> \"Gostaria de saber sobre reembolso.\" \n",
    "\n",
    "Essa mensagem é enviada para o número WhatsApp conectado via Z-API (o seu número pessoal ou empresarial que foi escaneado no painel da Z-API).\n",
    "\n",
    "#### 🔁 2. Z-API envia um `POST` para o seu webhook FastAPI\n",
    "\n",
    "No painel da Z-API, você configurou um webhook assim:\n",
    "\n",
    "``https://seuservidor.com/whatsapp/``\n",
    "\n",
    "Quando a mensagem chega no WhatsApp, a Z-API chama sua rota /whatsapp/, enviando um JSON com os seguintes dados:\n",
    "\n",
    "```json\n",
    "{\n",
    "  \"message\": \"Gostaria de saber sobre reembolso.\",\n",
    "  \"phone\": \"5511999999999\"\n",
    "}\n",
    "```\n",
    "\n",
    "#### 🧠 3. FastAPI recebe e processa no endpoint /whatsapp/\n",
    "\n",
    "No seu código:\n",
    "\n",
    "```python\n",
    "@app.post(\"/whatsapp/\")\n",
    "async def receber_mensagem(request: Request):\n",
    "    dados = await request.json()\n",
    "    pergunta = dados.get(\"message\")\n",
    "    numero = dados.get(\"phone\")\n",
    "```\n",
    "\n",
    "Você está capturando:\n",
    "\n",
    "- `pergunta` → O conteúdo da mensagem.\n",
    "- `numero` → O telefone de quem enviou.\n",
    "\n",
    "#### 🤖 4. Essa pergunta é passada para o seu RAG (LangChain + Chroma + Hugging Face | Ollama )\n",
    "\n",
    "```python \n",
    "resposta = qa.run(pergunta)\n",
    "```\n",
    "\n",
    "Aqui, o pipeline acontece:\n",
    "\n",
    "1. `pergunta` → transformada em vetor.\n",
    "\n",
    "2. Vetor → busca no Chroma pelos documentos mais próximos.\n",
    "\n",
    "3. Os documentos recuperados → passados para o LLM (Mixtral via Hugging Face).\n",
    "\n",
    "4. O modelo gera a resposta final, já com base na sua base de conhecimento.\n",
    "\n",
    "\n",
    "#### 📤 5. A resposta é enviada de volta ao usuário no WhatsApp\n",
    "\n",
    "Você faz uma chamada de `POST` para a Z-API:\n",
    "\n",
    "```python\n",
    "requests.post(\n",
    "    f\"https://api.z-api.io/instances/{INSTANCE_ID}/token/{TOKEN}/send-text\",\n",
    "    json={\n",
    "        \"phone\": numero,\n",
    "        \"message\": resposta\n",
    "    }\n",
    ")\n",
    "```\n",
    "\n",
    "✅ E o cliente recebe a resposta diretamente no WhatsApp, como se fosse uma pessoa respondendo.\n",
    "\n",
    "#### RESUMO DO FLUXO VISUAL:\n",
    "```csharp\n",
    "[WhatsApp do Cliente]\n",
    "        ↓\n",
    "[Z-API Webhook]\n",
    "        ↓\n",
    "[FastAPI /whatsapp/] ← captura mensagem\n",
    "        ↓\n",
    "[RAG LangChain]\n",
    "        ↓\n",
    "[Busca no ChromaDB + LLM]\n",
    "        ↓\n",
    "[Resposta gerada]\n",
    "        ↓\n",
    "[Z-API envia ao WhatsApp]\n",
    "        ↓\n",
    "[Cliente recebe a resposta no WhatsApp]\n",
    "```\n"
   ]
  },
  {
   "cell_type": "markdown",
   "metadata": {},
   "source": [
    "### ✅ Twilio: Integração Oficial com o WhatsApp Business\n",
    "\n",
    "Twilio é uma plataforma oficialmente aprovada pelo WhatsApp.\n",
    "\n",
    "É usada por grandes empresas como Nubank, iFood, Mercado Livre.\n",
    "\n",
    "Você precisa de um número WhatsApp Business verificado e aprovado."
   ]
  },
  {
   "cell_type": "markdown",
   "metadata": {},
   "source": [
    "#### 🛠️ Como funciona a integração via Twilio?\n",
    "\n",
    "1. Criar conta no https://twilio.com/\n",
    "Obtenha um SID da conta e um Token de autenticação.\n",
    "\n",
    "2. Obtenha um número de WhatsApp Business sandbox\n",
    "Vá para: Messaging > Try it out > WhatsApp sandbox\n",
    "\n",
    "Siga as instruções para conectar seu WhatsApp ao sandbox.\n",
    "\n",
    "3. Configure seu webhook de recebimento\n",
    "Twilio enviará mensagens recebidas para um endpoint HTTP (como FastAPI)."
   ]
  },
  {
   "cell_type": "markdown",
   "metadata": {},
   "source": [
    "#### 📤 Enviando mensagem via Twilio (Python)\n",
    "\n"
   ]
  },
  {
   "cell_type": "code",
   "execution_count": null,
   "metadata": {},
   "outputs": [],
   "source": [
    "from twilio.rest import Client\n",
    "\n",
    "account_sid = \"SEU_SID\"\n",
    "auth_token = \"SEU_TOKEN\"\n",
    "client = Client(account_sid, auth_token)\n",
    "\n",
    "mensagem = client.messages.create(\n",
    "    from_='whatsapp:+14155238886',\n",
    "    body='Olá! Como posso ajudar?',\n",
    "    to='whatsapp:+5511999999999'\n",
    ")\n",
    "\n",
    "print(mensagem.sid)\n"
   ]
  },
  {
   "cell_type": "markdown",
   "metadata": {},
   "source": [
    "#### 📥 Recebendo mensagem com webhook (FastAPI)\n",
    "\n"
   ]
  },
  {
   "cell_type": "code",
   "execution_count": null,
   "metadata": {},
   "outputs": [],
   "source": [
    "from fastapi import FastAPI, Form\n",
    "\n",
    "app = FastAPI()\n",
    "\n",
    "@app.post(\"/twilio/\")\n",
    "async def receber_mensagem(Body: str = Form(...), From: str = Form(...)):\n",
    "    print(f\"Mensagem de {From}: {Body}\")\n",
    "    resposta = qa.run(Body)\n",
    "\n",
    "    # Aqui você pode usar Twilio para responder de volta\n",
    "    # (igual ao código acima)\n",
    "    return \"ok\"\n"
   ]
  },
  {
   "cell_type": "markdown",
   "metadata": {},
   "source": [
    "#### 📦 Prós e Contras do Twilio:\n",
    "![prosecontras2](images/prosecontras2.png)"
   ]
  },
  {
   "cell_type": "markdown",
   "metadata": {},
   "source": []
  },
  {
   "cell_type": "markdown",
   "metadata": {},
   "source": [
    "# Agora vamos configurar uma forma solução controlada, local, escalável e com liberdade total. \n",
    "\n",
    "Vamos integrar seu RAG Python com um bot em Node.js via uma API HTTP local"
   ]
  },
  {
   "cell_type": "markdown",
   "metadata": {},
   "source": [
    "## ✅ Passo a passo: rodando o llm + fastapi com python"
   ]
  },
  {
   "cell_type": "markdown",
   "metadata": {},
   "source": [
    "### Criando ambiente virtual no python\n",
    "\n",
    "```bash\n",
    "python -m venv venv  \n",
    "```\n",
    "### Ativando o ambiente virtual\n",
    "\n",
    "```bash\n",
    "venv\\Scripts\\activate\n",
    "```\n",
    "\n",
    "### Bypass da excessão\n",
    "\n",
    "Caso o erro abaixo apareca vc precisa pedir para que o Wondows ignore, apenas para aquele terminal, o bloqueio de execução de scripts.\n",
    "\n",
    "![erro](erroo.png)\n",
    "\n",
    "Execute o comando abaixo:\n",
    "```bash\n",
    "Set-ExecutionPolicy -ExecutionPolicy Bypass -Scope Process\n",
    "```\n",
    "\n",
    "Execute novamente o comando abaixo:\n",
    "```bash\n",
    "venv\\Scripts\\activate\n",
    "```\n",
    "\n",
    "Caso tenha conseguito seu terminal terá o nome da pasta do ambiente virtual como abaixo:\n",
    "\n",
    "```bash\n",
    "(venv) PS C:\\Users\\Eric\\Desktop\\aula> \n",
    "```\n",
    "\n",
    "### Instale as dependências:\n",
    "\n",
    "```bash\n",
    "pip install -r requiremensts.txt\n",
    "```\n",
    "\n",
    "As dependencias do arquivo são as seguintes:\n",
    "\n",
    "```\n",
    "fastapi\n",
    "uvicorn\n",
    "pydantic\n",
    "python-dotenv\n",
    "langchain\n",
    "langchain-chroma\n",
    "langchain-ollama\n",
    "```\n",
    "\n",
    "### Inicializar o FAST-API:\n",
    "\n",
    "```bash\n",
    "uvicorn rag_api:app --host 0.0.0.0 --port 3000 --reload\n",
    "```\n",
    "\n",
    "O comando anterior inicializa o 'motor' uvicorn que permanece 'ligado' o tempo todo aguardando novas requisções.\n"
   ]
  },
  {
   "cell_type": "markdown",
   "metadata": {},
   "source": []
  },
  {
   "cell_type": "markdown",
   "metadata": {},
   "source": [
    "## ✅ Passo a passo: rodando o bot.js com whatsapp-web.js"
   ]
  },
  {
   "cell_type": "markdown",
   "metadata": {},
   "source": [
    "### 🧩 1. Instalar o Node.js\n",
    "\n",
    "👉 Acesse:\n",
    "https://nodejs.org/\n",
    "\n",
    "- Baixe a versão LTS (recomendada)\n",
    "- Instale com todas as opções padrão\n",
    "- Após instalar, reinicie o terminal (ou VS Code)\n",
    "\n"
   ]
  },
  {
   "cell_type": "markdown",
   "metadata": {},
   "source": [
    "### ✅ 2. Verifique se o Node e NPM foram instalados\n",
    "\n",
    "```bash\n",
    "node -v\n",
    "npm -v\n",
    "```\n",
    "\n",
    "Se aparecerem versões como v18.x.x, 9.x.x, está tudo certo!\n"
   ]
  },
  {
   "cell_type": "markdown",
   "metadata": {},
   "source": [
    "### 📁 3. Crie uma pasta para seu bot (caso ainda não tenha)\n",
    "\n",
    "```bash\n",
    "mkdir whatsapp-rag-bot\n",
    "cd whatsapp-rag-bot\n",
    "```\n",
    "\n"
   ]
  },
  {
   "cell_type": "markdown",
   "metadata": {},
   "source": [
    "### 📦 4. Crie o projeto Node\n",
    "\n",
    "```bash\n",
    "npm init -y\n",
    "```\n"
   ]
  },
  {
   "cell_type": "markdown",
   "metadata": {},
   "source": [
    "### 📚 5. Instale as dependências\n",
    "\n",
    "```bash\n",
    "npm install whatsapp-web.js axios qrcode-terminal\n",
    "```\n"
   ]
  },
  {
   "cell_type": "markdown",
   "metadata": {},
   "source": [
    "### 📝 6. Crie o arquivo bot.js\n",
    "\n",
    "\n",
    "```js\n",
    "const { Client, LocalAuth } = require(\"whatsapp-web.js\");\n",
    "const axios = require(\"axios\");\n",
    "const qrcode = require(\"qrcode-terminal\");\n",
    "\n",
    "const client = new Client({\n",
    "    authStrategy: new LocalAuth()\n",
    "});\n",
    "\n",
    "client.on(\"qr\", (qr) => {\n",
    "    console.log(\"📱 Escaneie o QR Code para conectar seu bot ao WhatsApp:\");\n",
    "    qrcode.generate(qr, { small: true });\n",
    "});\n",
    "\n",
    "client.on(\"ready\", () => {\n",
    "    console.log(\"✅ Bot do WhatsApp está pronto!\");\n",
    "});\n",
    "\n",
    "client.on(\"message\", async (message) => {\n",
    "    if (message.isGroupMsg) return;\n",
    "    if (!message.body) return;\n",
    "\n",
    "    console.log(`📩 Mensagem recebida: ${message.body}`);\n",
    "\n",
    "    try {\n",
    "        const response = await axios.post(\"http://localhost:3000/chat\", {\n",
    "            prompt: message.body\n",
    "        });\n",
    "\n",
    "        const botResponse = response.data.response\n",
    "            .replace(/<\\/?[^>]+(>|$)/g, \"\")\n",
    "            .replace(/\\n/g, \" \")\n",
    "            .trim();\n",
    "\n",
    "        await message.reply(botResponse);\n",
    "        console.log(`🤖 Resposta enviada: ${botResponse}`);\n",
    "    } catch (error) {\n",
    "        console.error(\"❌ Erro ao processar a mensagem:\", error.message);\n",
    "        await message.reply(\"⚠️ Ocorreu um erro ao processar sua mensagem.\");\n",
    "    }\n",
    "});\n",
    "\n",
    "client.initialize();\n",
    "```\n"
   ]
  },
  {
   "cell_type": "markdown",
   "metadata": {},
   "source": [
    "### 🚀 7. Rode o bot\n",
    "\n",
    "```bash\n",
    "node bot.js\n",
    "```\n",
    "\n",
    "📱 Ele mostrará um QR Code no terminal → escaneie com seu WhatsApp Web."
   ]
  },
  {
   "cell_type": "markdown",
   "metadata": {},
   "source": [
    "### 🧠 8. Certifique-se de que sua API FastAPI (/chat) esteja instalada e rodando\n",
    "\n",
    "```bash\n",
    "pip install fastapi uvicorn langchain langchain-community langchain-chroma sentence-transformers python-dotenv requests pydantic\n",
    "```\n",
    "\n",
    "\n",
    "```bash\n",
    "uvicorn rag_api:app --host 0.0.0.0 --port 3000 --reload\n",
    "```\n"
   ]
  },
  {
   "cell_type": "markdown",
   "metadata": {},
   "source": []
  },
  {
   "cell_type": "markdown",
   "metadata": {},
   "source": []
  }
 ],
 "metadata": {
  "kernelspec": {
   "display_name": "Python 3",
   "language": "python",
   "name": "python3"
  },
  "language_info": {
   "codemirror_mode": {
    "name": "ipython",
    "version": 3
   },
   "file_extension": ".py",
   "mimetype": "text/x-python",
   "name": "python",
   "nbconvert_exporter": "python",
   "pygments_lexer": "ipython3",
   "version": "3.12.10"
  }
 },
 "nbformat": 4,
 "nbformat_minor": 2
}
